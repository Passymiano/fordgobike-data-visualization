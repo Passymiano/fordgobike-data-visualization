{
 "cells": [
  {
   "cell_type": "markdown",
   "metadata": {},
   "source": [
    "# Part I - (Ford GoBike System Data Exploration)\n",
    "## by (Passy Miano)\n",
    "\n",
    "## Introduction\n",
    "> The dataset contains information about individual rides made in the Ford GoBike bike-sharing system covering the greater San Fransisco Bay area \n",
    "\n",
    "\n",
    "\n",
    "## Preliminary Wrangling\n"
   ]
  },
  {
   "cell_type": "code",
   "execution_count": 1,
   "metadata": {},
   "outputs": [],
   "source": [
    "# import all packages and set plots to be embedded inline\n",
    "import numpy as np\n",
    "import pandas as pd\n",
    "import matplotlib.pyplot as plt\n",
    "import seaborn as sb\n",
    "\n",
    "%matplotlib inline"
   ]
  },
  {
   "cell_type": "code",
   "execution_count": 2,
   "metadata": {},
   "outputs": [
    {
     "data": {
      "text/html": [
       "<div>\n",
       "<style scoped>\n",
       "    .dataframe tbody tr th:only-of-type {\n",
       "        vertical-align: middle;\n",
       "    }\n",
       "\n",
       "    .dataframe tbody tr th {\n",
       "        vertical-align: top;\n",
       "    }\n",
       "\n",
       "    .dataframe thead th {\n",
       "        text-align: right;\n",
       "    }\n",
       "</style>\n",
       "<table border=\"1\" class=\"dataframe\">\n",
       "  <thead>\n",
       "    <tr style=\"text-align: right;\">\n",
       "      <th></th>\n",
       "      <th>duration_sec</th>\n",
       "      <th>start_time</th>\n",
       "      <th>end_time</th>\n",
       "      <th>start_station_id</th>\n",
       "      <th>start_station_name</th>\n",
       "      <th>start_station_latitude</th>\n",
       "      <th>start_station_longitude</th>\n",
       "      <th>end_station_id</th>\n",
       "      <th>end_station_name</th>\n",
       "      <th>end_station_latitude</th>\n",
       "      <th>end_station_longitude</th>\n",
       "      <th>bike_id</th>\n",
       "      <th>user_type</th>\n",
       "      <th>member_birth_year</th>\n",
       "      <th>member_gender</th>\n",
       "      <th>bike_share_for_all_trip</th>\n",
       "    </tr>\n",
       "  </thead>\n",
       "  <tbody>\n",
       "    <tr>\n",
       "      <th>0</th>\n",
       "      <td>52185</td>\n",
       "      <td>2019-02-28 17:32:10.1450</td>\n",
       "      <td>2019-03-01 08:01:55.9750</td>\n",
       "      <td>21.0</td>\n",
       "      <td>Montgomery St BART Station (Market St at 2nd St)</td>\n",
       "      <td>37.789625</td>\n",
       "      <td>-122.400811</td>\n",
       "      <td>13.0</td>\n",
       "      <td>Commercial St at Montgomery St</td>\n",
       "      <td>37.794231</td>\n",
       "      <td>-122.402923</td>\n",
       "      <td>4902</td>\n",
       "      <td>Customer</td>\n",
       "      <td>1984.0</td>\n",
       "      <td>Male</td>\n",
       "      <td>No</td>\n",
       "    </tr>\n",
       "    <tr>\n",
       "      <th>1</th>\n",
       "      <td>42521</td>\n",
       "      <td>2019-02-28 18:53:21.7890</td>\n",
       "      <td>2019-03-01 06:42:03.0560</td>\n",
       "      <td>23.0</td>\n",
       "      <td>The Embarcadero at Steuart St</td>\n",
       "      <td>37.791464</td>\n",
       "      <td>-122.391034</td>\n",
       "      <td>81.0</td>\n",
       "      <td>Berry St at 4th St</td>\n",
       "      <td>37.775880</td>\n",
       "      <td>-122.393170</td>\n",
       "      <td>2535</td>\n",
       "      <td>Customer</td>\n",
       "      <td>NaN</td>\n",
       "      <td>NaN</td>\n",
       "      <td>No</td>\n",
       "    </tr>\n",
       "    <tr>\n",
       "      <th>2</th>\n",
       "      <td>61854</td>\n",
       "      <td>2019-02-28 12:13:13.2180</td>\n",
       "      <td>2019-03-01 05:24:08.1460</td>\n",
       "      <td>86.0</td>\n",
       "      <td>Market St at Dolores St</td>\n",
       "      <td>37.769305</td>\n",
       "      <td>-122.426826</td>\n",
       "      <td>3.0</td>\n",
       "      <td>Powell St BART Station (Market St at 4th St)</td>\n",
       "      <td>37.786375</td>\n",
       "      <td>-122.404904</td>\n",
       "      <td>5905</td>\n",
       "      <td>Customer</td>\n",
       "      <td>1972.0</td>\n",
       "      <td>Male</td>\n",
       "      <td>No</td>\n",
       "    </tr>\n",
       "    <tr>\n",
       "      <th>3</th>\n",
       "      <td>36490</td>\n",
       "      <td>2019-02-28 17:54:26.0100</td>\n",
       "      <td>2019-03-01 04:02:36.8420</td>\n",
       "      <td>375.0</td>\n",
       "      <td>Grove St at Masonic Ave</td>\n",
       "      <td>37.774836</td>\n",
       "      <td>-122.446546</td>\n",
       "      <td>70.0</td>\n",
       "      <td>Central Ave at Fell St</td>\n",
       "      <td>37.773311</td>\n",
       "      <td>-122.444293</td>\n",
       "      <td>6638</td>\n",
       "      <td>Subscriber</td>\n",
       "      <td>1989.0</td>\n",
       "      <td>Other</td>\n",
       "      <td>No</td>\n",
       "    </tr>\n",
       "    <tr>\n",
       "      <th>4</th>\n",
       "      <td>1585</td>\n",
       "      <td>2019-02-28 23:54:18.5490</td>\n",
       "      <td>2019-03-01 00:20:44.0740</td>\n",
       "      <td>7.0</td>\n",
       "      <td>Frank H Ogawa Plaza</td>\n",
       "      <td>37.804562</td>\n",
       "      <td>-122.271738</td>\n",
       "      <td>222.0</td>\n",
       "      <td>10th Ave at E 15th St</td>\n",
       "      <td>37.792714</td>\n",
       "      <td>-122.248780</td>\n",
       "      <td>4898</td>\n",
       "      <td>Subscriber</td>\n",
       "      <td>1974.0</td>\n",
       "      <td>Male</td>\n",
       "      <td>Yes</td>\n",
       "    </tr>\n",
       "  </tbody>\n",
       "</table>\n",
       "</div>"
      ],
      "text/plain": [
       "   duration_sec                start_time                  end_time  \\\n",
       "0         52185  2019-02-28 17:32:10.1450  2019-03-01 08:01:55.9750   \n",
       "1         42521  2019-02-28 18:53:21.7890  2019-03-01 06:42:03.0560   \n",
       "2         61854  2019-02-28 12:13:13.2180  2019-03-01 05:24:08.1460   \n",
       "3         36490  2019-02-28 17:54:26.0100  2019-03-01 04:02:36.8420   \n",
       "4          1585  2019-02-28 23:54:18.5490  2019-03-01 00:20:44.0740   \n",
       "\n",
       "   start_station_id                                start_station_name  \\\n",
       "0              21.0  Montgomery St BART Station (Market St at 2nd St)   \n",
       "1              23.0                     The Embarcadero at Steuart St   \n",
       "2              86.0                           Market St at Dolores St   \n",
       "3             375.0                           Grove St at Masonic Ave   \n",
       "4               7.0                               Frank H Ogawa Plaza   \n",
       "\n",
       "   start_station_latitude  start_station_longitude  end_station_id  \\\n",
       "0               37.789625              -122.400811            13.0   \n",
       "1               37.791464              -122.391034            81.0   \n",
       "2               37.769305              -122.426826             3.0   \n",
       "3               37.774836              -122.446546            70.0   \n",
       "4               37.804562              -122.271738           222.0   \n",
       "\n",
       "                               end_station_name  end_station_latitude  \\\n",
       "0                Commercial St at Montgomery St             37.794231   \n",
       "1                            Berry St at 4th St             37.775880   \n",
       "2  Powell St BART Station (Market St at 4th St)             37.786375   \n",
       "3                        Central Ave at Fell St             37.773311   \n",
       "4                         10th Ave at E 15th St             37.792714   \n",
       "\n",
       "   end_station_longitude  bike_id   user_type  member_birth_year  \\\n",
       "0            -122.402923     4902    Customer             1984.0   \n",
       "1            -122.393170     2535    Customer                NaN   \n",
       "2            -122.404904     5905    Customer             1972.0   \n",
       "3            -122.444293     6638  Subscriber             1989.0   \n",
       "4            -122.248780     4898  Subscriber             1974.0   \n",
       "\n",
       "  member_gender bike_share_for_all_trip  \n",
       "0          Male                      No  \n",
       "1           NaN                      No  \n",
       "2          Male                      No  \n",
       "3         Other                      No  \n",
       "4          Male                     Yes  "
      ]
     },
     "execution_count": 2,
     "metadata": {},
     "output_type": "execute_result"
    }
   ],
   "source": [
    "#loading dataset\n",
    "bike_trips = pd.read_csv(\"201902-fordgobike-tripdata.csv\")\n",
    "bike_trips.head()"
   ]
  },
  {
   "cell_type": "code",
   "execution_count": 3,
   "metadata": {},
   "outputs": [
    {
     "name": "stdout",
     "output_type": "stream",
     "text": [
      "(183412, 16)\n",
      "duration_sec                 int64\n",
      "start_time                  object\n",
      "end_time                    object\n",
      "start_station_id           float64\n",
      "start_station_name          object\n",
      "start_station_latitude     float64\n",
      "start_station_longitude    float64\n",
      "end_station_id             float64\n",
      "end_station_name            object\n",
      "end_station_latitude       float64\n",
      "end_station_longitude      float64\n",
      "bike_id                      int64\n",
      "user_type                   object\n",
      "member_birth_year          float64\n",
      "member_gender               object\n",
      "bike_share_for_all_trip     object\n",
      "dtype: object\n"
     ]
    }
   ],
   "source": [
    "print(bike_trips.shape)\n",
    "print(bike_trips.dtypes)"
   ]
  },
  {
   "cell_type": "code",
   "execution_count": 4,
   "metadata": {},
   "outputs": [],
   "source": [
    "# convert user_type and member_gender into categorical variables.\n",
    "nominal_var_dict = {'user_type': ['Subscriber','Customer'],\n",
    "                    'member_gender': ['Male', 'Female', 'Other'],\n",
    "                   'bike_share_for_all_trip': ['No', 'Yes']}\n",
    "                \n",
    "for var in nominal_var_dict:\n",
    "    unordered_var = pd.api.types.CategoricalDtype(ordered = False,\n",
    "                                                categories = nominal_var_dict[var])\n",
    "    bike_trips[var] = bike_trips[var].astype(unordered_var)"
   ]
  },
  {
   "cell_type": "code",
   "execution_count": 26,
   "metadata": {},
   "outputs": [
    {
     "data": {
      "text/plain": [
       "duration_sec                        int64\n",
       "start_time                 datetime64[ns]\n",
       "end_time                   datetime64[ns]\n",
       "start_station_id                  float64\n",
       "start_station_name                 object\n",
       "start_station_latitude            float64\n",
       "start_station_longitude           float64\n",
       "end_station_id                    float64\n",
       "end_station_name                   object\n",
       "end_station_latitude              float64\n",
       "end_station_longitude             float64\n",
       "bike_id                             int64\n",
       "user_type                        category\n",
       "member_birth_year                 float64\n",
       "member_gender                    category\n",
       "bike_share_for_all_trip          category\n",
       "start_time_weekday                 object\n",
       "start_time_hour                     int64\n",
       "age                               float64\n",
       "duration_min                      float64\n",
       "route                              object\n",
       "dtype: object"
      ]
     },
     "execution_count": 26,
     "metadata": {},
     "output_type": "execute_result"
    }
   ],
   "source": [
    "# Changing the format to datetime\n",
    "bike_trips['start_time'] = pd.to_datetime(bike_trips['start_time'])\n",
    "bike_trips['end_time'] = pd.to_datetime(bike_trips['end_time'])\n",
    "bike_trips.dtypes"
   ]
  },
  {
   "cell_type": "code",
   "execution_count": 43,
   "metadata": {},
   "outputs": [
    {
     "data": {
      "text/html": [
       "<div>\n",
       "<style scoped>\n",
       "    .dataframe tbody tr th:only-of-type {\n",
       "        vertical-align: middle;\n",
       "    }\n",
       "\n",
       "    .dataframe tbody tr th {\n",
       "        vertical-align: top;\n",
       "    }\n",
       "\n",
       "    .dataframe thead th {\n",
       "        text-align: right;\n",
       "    }\n",
       "</style>\n",
       "<table border=\"1\" class=\"dataframe\">\n",
       "  <thead>\n",
       "    <tr style=\"text-align: right;\">\n",
       "      <th></th>\n",
       "      <th>duration_sec</th>\n",
       "      <th>start_time</th>\n",
       "      <th>end_time</th>\n",
       "      <th>start_station_id</th>\n",
       "      <th>start_station_name</th>\n",
       "      <th>start_station_latitude</th>\n",
       "      <th>start_station_longitude</th>\n",
       "      <th>end_station_id</th>\n",
       "      <th>end_station_name</th>\n",
       "      <th>end_station_latitude</th>\n",
       "      <th>...</th>\n",
       "      <th>bike_id</th>\n",
       "      <th>user_type</th>\n",
       "      <th>member_birth_year</th>\n",
       "      <th>member_gender</th>\n",
       "      <th>bike_share_for_all_trip</th>\n",
       "      <th>start_time_weekday</th>\n",
       "      <th>start_time_hour</th>\n",
       "      <th>age</th>\n",
       "      <th>duration_min</th>\n",
       "      <th>route</th>\n",
       "    </tr>\n",
       "  </thead>\n",
       "  <tbody>\n",
       "    <tr>\n",
       "      <th>0</th>\n",
       "      <td>52185</td>\n",
       "      <td>2019-02-28 17:32:10.145</td>\n",
       "      <td>2019-03-01 08:01:55.975</td>\n",
       "      <td>21.0</td>\n",
       "      <td>Montgomery St BART Station (Market St at 2nd St)</td>\n",
       "      <td>37.789625</td>\n",
       "      <td>-122.400811</td>\n",
       "      <td>13.0</td>\n",
       "      <td>Commercial St at Montgomery St</td>\n",
       "      <td>37.794231</td>\n",
       "      <td>...</td>\n",
       "      <td>4902</td>\n",
       "      <td>Customer</td>\n",
       "      <td>1984.0</td>\n",
       "      <td>Male</td>\n",
       "      <td>No</td>\n",
       "      <td>Thursday</td>\n",
       "      <td>17</td>\n",
       "      <td>35.0</td>\n",
       "      <td>869.75</td>\n",
       "      <td>Montgomery St BART Station (Market St at 2nd St) to Commercial St at Montgomery St</td>\n",
       "    </tr>\n",
       "    <tr>\n",
       "      <th>1</th>\n",
       "      <td>42521</td>\n",
       "      <td>2019-02-28 18:53:21.789</td>\n",
       "      <td>2019-03-01 06:42:03.056</td>\n",
       "      <td>23.0</td>\n",
       "      <td>The Embarcadero at Steuart St</td>\n",
       "      <td>37.791464</td>\n",
       "      <td>-122.391034</td>\n",
       "      <td>81.0</td>\n",
       "      <td>Berry St at 4th St</td>\n",
       "      <td>37.775880</td>\n",
       "      <td>...</td>\n",
       "      <td>2535</td>\n",
       "      <td>Customer</td>\n",
       "      <td>NaN</td>\n",
       "      <td>NaN</td>\n",
       "      <td>No</td>\n",
       "      <td>Thursday</td>\n",
       "      <td>18</td>\n",
       "      <td>NaN</td>\n",
       "      <td>708.68</td>\n",
       "      <td>The Embarcadero at Steuart St to Berry St at 4th St</td>\n",
       "    </tr>\n",
       "    <tr>\n",
       "      <th>2</th>\n",
       "      <td>61854</td>\n",
       "      <td>2019-02-28 12:13:13.218</td>\n",
       "      <td>2019-03-01 05:24:08.146</td>\n",
       "      <td>86.0</td>\n",
       "      <td>Market St at Dolores St</td>\n",
       "      <td>37.769305</td>\n",
       "      <td>-122.426826</td>\n",
       "      <td>3.0</td>\n",
       "      <td>Powell St BART Station (Market St at 4th St)</td>\n",
       "      <td>37.786375</td>\n",
       "      <td>...</td>\n",
       "      <td>5905</td>\n",
       "      <td>Customer</td>\n",
       "      <td>1972.0</td>\n",
       "      <td>Male</td>\n",
       "      <td>No</td>\n",
       "      <td>Thursday</td>\n",
       "      <td>12</td>\n",
       "      <td>47.0</td>\n",
       "      <td>1030.90</td>\n",
       "      <td>Market St at Dolores St to Powell St BART Station (Market St at 4th St)</td>\n",
       "    </tr>\n",
       "    <tr>\n",
       "      <th>3</th>\n",
       "      <td>36490</td>\n",
       "      <td>2019-02-28 17:54:26.010</td>\n",
       "      <td>2019-03-01 04:02:36.842</td>\n",
       "      <td>375.0</td>\n",
       "      <td>Grove St at Masonic Ave</td>\n",
       "      <td>37.774836</td>\n",
       "      <td>-122.446546</td>\n",
       "      <td>70.0</td>\n",
       "      <td>Central Ave at Fell St</td>\n",
       "      <td>37.773311</td>\n",
       "      <td>...</td>\n",
       "      <td>6638</td>\n",
       "      <td>Subscriber</td>\n",
       "      <td>1989.0</td>\n",
       "      <td>Other</td>\n",
       "      <td>No</td>\n",
       "      <td>Thursday</td>\n",
       "      <td>17</td>\n",
       "      <td>30.0</td>\n",
       "      <td>608.17</td>\n",
       "      <td>Grove St at Masonic Ave to Central Ave at Fell St</td>\n",
       "    </tr>\n",
       "    <tr>\n",
       "      <th>4</th>\n",
       "      <td>1585</td>\n",
       "      <td>2019-02-28 23:54:18.549</td>\n",
       "      <td>2019-03-01 00:20:44.074</td>\n",
       "      <td>7.0</td>\n",
       "      <td>Frank H Ogawa Plaza</td>\n",
       "      <td>37.804562</td>\n",
       "      <td>-122.271738</td>\n",
       "      <td>222.0</td>\n",
       "      <td>10th Ave at E 15th St</td>\n",
       "      <td>37.792714</td>\n",
       "      <td>...</td>\n",
       "      <td>4898</td>\n",
       "      <td>Subscriber</td>\n",
       "      <td>1974.0</td>\n",
       "      <td>Male</td>\n",
       "      <td>Yes</td>\n",
       "      <td>Thursday</td>\n",
       "      <td>23</td>\n",
       "      <td>45.0</td>\n",
       "      <td>26.42</td>\n",
       "      <td>Frank H Ogawa Plaza to 10th Ave at E 15th St</td>\n",
       "    </tr>\n",
       "  </tbody>\n",
       "</table>\n",
       "<p>5 rows × 21 columns</p>\n",
       "</div>"
      ],
      "text/plain": [
       "   duration_sec              start_time                end_time  \\\n",
       "0  52185        2019-02-28 17:32:10.145 2019-03-01 08:01:55.975   \n",
       "1  42521        2019-02-28 18:53:21.789 2019-03-01 06:42:03.056   \n",
       "2  61854        2019-02-28 12:13:13.218 2019-03-01 05:24:08.146   \n",
       "3  36490        2019-02-28 17:54:26.010 2019-03-01 04:02:36.842   \n",
       "4  1585         2019-02-28 23:54:18.549 2019-03-01 00:20:44.074   \n",
       "\n",
       "   start_station_id                                start_station_name  \\\n",
       "0  21.0              Montgomery St BART Station (Market St at 2nd St)   \n",
       "1  23.0              The Embarcadero at Steuart St                      \n",
       "2  86.0              Market St at Dolores St                            \n",
       "3  375.0             Grove St at Masonic Ave                            \n",
       "4  7.0               Frank H Ogawa Plaza                                \n",
       "\n",
       "   start_station_latitude  start_station_longitude  end_station_id  \\\n",
       "0  37.789625              -122.400811               13.0             \n",
       "1  37.791464              -122.391034               81.0             \n",
       "2  37.769305              -122.426826               3.0              \n",
       "3  37.774836              -122.446546               70.0             \n",
       "4  37.804562              -122.271738               222.0            \n",
       "\n",
       "                               end_station_name  end_station_latitude  \\\n",
       "0  Commercial St at Montgomery St                37.794231              \n",
       "1  Berry St at 4th St                            37.775880              \n",
       "2  Powell St BART Station (Market St at 4th St)  37.786375              \n",
       "3  Central Ave at Fell St                        37.773311              \n",
       "4  10th Ave at E 15th St                         37.792714              \n",
       "\n",
       "                                          ...                                          \\\n",
       "0                                         ...                                           \n",
       "1                                         ...                                           \n",
       "2                                         ...                                           \n",
       "3                                         ...                                           \n",
       "4                                         ...                                           \n",
       "\n",
       "   bike_id   user_type member_birth_year  member_gender  \\\n",
       "0  4902     Customer    1984.0            Male            \n",
       "1  2535     Customer   NaN                NaN             \n",
       "2  5905     Customer    1972.0            Male            \n",
       "3  6638     Subscriber  1989.0            Other           \n",
       "4  4898     Subscriber  1974.0            Male            \n",
       "\n",
       "  bike_share_for_all_trip start_time_weekday start_time_hour   age  \\\n",
       "0  No                      Thursday           17              35.0   \n",
       "1  No                      Thursday           18             NaN     \n",
       "2  No                      Thursday           12              47.0   \n",
       "3  No                      Thursday           17              30.0   \n",
       "4  Yes                     Thursday           23              45.0   \n",
       "\n",
       "   duration_min  \\\n",
       "0  869.75         \n",
       "1  708.68         \n",
       "2  1030.90        \n",
       "3  608.17         \n",
       "4  26.42          \n",
       "\n",
       "                                                                                route  \n",
       "0  Montgomery St BART Station (Market St at 2nd St) to Commercial St at Montgomery St  \n",
       "1  The Embarcadero at Steuart St to Berry St at 4th St                                 \n",
       "2  Market St at Dolores St to Powell St BART Station (Market St at 4th St)             \n",
       "3  Grove St at Masonic Ave to Central Ave at Fell St                                   \n",
       "4  Frank H Ogawa Plaza to 10th Ave at E 15th St                                        \n",
       "\n",
       "[5 rows x 21 columns]"
      ]
     },
     "execution_count": 43,
     "metadata": {},
     "output_type": "execute_result"
    }
   ],
   "source": [
    "#extracting day and hour from startdate column\n",
    "bike_trips['start_time_weekday'] = bike_trips['start_time'].dt.strftime('%A')\n",
    "bike_trips['start_time_hour'] = bike_trips['start_time'].dt.hour\n",
    "bike_trips.head()"
   ]
  },
  {
   "cell_type": "code",
   "execution_count": 7,
   "metadata": {},
   "outputs": [
    {
     "data": {
      "text/html": [
       "<div>\n",
       "<style scoped>\n",
       "    .dataframe tbody tr th:only-of-type {\n",
       "        vertical-align: middle;\n",
       "    }\n",
       "\n",
       "    .dataframe tbody tr th {\n",
       "        vertical-align: top;\n",
       "    }\n",
       "\n",
       "    .dataframe thead th {\n",
       "        text-align: right;\n",
       "    }\n",
       "</style>\n",
       "<table border=\"1\" class=\"dataframe\">\n",
       "  <thead>\n",
       "    <tr style=\"text-align: right;\">\n",
       "      <th></th>\n",
       "      <th>duration_sec</th>\n",
       "      <th>start_time</th>\n",
       "      <th>end_time</th>\n",
       "      <th>start_station_id</th>\n",
       "      <th>start_station_name</th>\n",
       "      <th>start_station_latitude</th>\n",
       "      <th>start_station_longitude</th>\n",
       "      <th>end_station_id</th>\n",
       "      <th>end_station_name</th>\n",
       "      <th>end_station_latitude</th>\n",
       "      <th>end_station_longitude</th>\n",
       "      <th>bike_id</th>\n",
       "      <th>user_type</th>\n",
       "      <th>member_birth_year</th>\n",
       "      <th>member_gender</th>\n",
       "      <th>bike_share_for_all_trip</th>\n",
       "      <th>start_time_weekday</th>\n",
       "      <th>start_time_hour</th>\n",
       "      <th>age</th>\n",
       "    </tr>\n",
       "  </thead>\n",
       "  <tbody>\n",
       "    <tr>\n",
       "      <th>0</th>\n",
       "      <td>52185</td>\n",
       "      <td>2019-02-28 17:32:10.145</td>\n",
       "      <td>2019-03-01 08:01:55.975</td>\n",
       "      <td>21.0</td>\n",
       "      <td>Montgomery St BART Station (Market St at 2nd St)</td>\n",
       "      <td>37.789625</td>\n",
       "      <td>-122.400811</td>\n",
       "      <td>13.0</td>\n",
       "      <td>Commercial St at Montgomery St</td>\n",
       "      <td>37.794231</td>\n",
       "      <td>-122.402923</td>\n",
       "      <td>4902</td>\n",
       "      <td>Customer</td>\n",
       "      <td>1984.0</td>\n",
       "      <td>Male</td>\n",
       "      <td>No</td>\n",
       "      <td>Thursday</td>\n",
       "      <td>17</td>\n",
       "      <td>35.0</td>\n",
       "    </tr>\n",
       "    <tr>\n",
       "      <th>1</th>\n",
       "      <td>42521</td>\n",
       "      <td>2019-02-28 18:53:21.789</td>\n",
       "      <td>2019-03-01 06:42:03.056</td>\n",
       "      <td>23.0</td>\n",
       "      <td>The Embarcadero at Steuart St</td>\n",
       "      <td>37.791464</td>\n",
       "      <td>-122.391034</td>\n",
       "      <td>81.0</td>\n",
       "      <td>Berry St at 4th St</td>\n",
       "      <td>37.775880</td>\n",
       "      <td>-122.393170</td>\n",
       "      <td>2535</td>\n",
       "      <td>Customer</td>\n",
       "      <td>NaN</td>\n",
       "      <td>NaN</td>\n",
       "      <td>No</td>\n",
       "      <td>Thursday</td>\n",
       "      <td>18</td>\n",
       "      <td>NaN</td>\n",
       "    </tr>\n",
       "    <tr>\n",
       "      <th>2</th>\n",
       "      <td>61854</td>\n",
       "      <td>2019-02-28 12:13:13.218</td>\n",
       "      <td>2019-03-01 05:24:08.146</td>\n",
       "      <td>86.0</td>\n",
       "      <td>Market St at Dolores St</td>\n",
       "      <td>37.769305</td>\n",
       "      <td>-122.426826</td>\n",
       "      <td>3.0</td>\n",
       "      <td>Powell St BART Station (Market St at 4th St)</td>\n",
       "      <td>37.786375</td>\n",
       "      <td>-122.404904</td>\n",
       "      <td>5905</td>\n",
       "      <td>Customer</td>\n",
       "      <td>1972.0</td>\n",
       "      <td>Male</td>\n",
       "      <td>No</td>\n",
       "      <td>Thursday</td>\n",
       "      <td>12</td>\n",
       "      <td>47.0</td>\n",
       "    </tr>\n",
       "    <tr>\n",
       "      <th>3</th>\n",
       "      <td>36490</td>\n",
       "      <td>2019-02-28 17:54:26.010</td>\n",
       "      <td>2019-03-01 04:02:36.842</td>\n",
       "      <td>375.0</td>\n",
       "      <td>Grove St at Masonic Ave</td>\n",
       "      <td>37.774836</td>\n",
       "      <td>-122.446546</td>\n",
       "      <td>70.0</td>\n",
       "      <td>Central Ave at Fell St</td>\n",
       "      <td>37.773311</td>\n",
       "      <td>-122.444293</td>\n",
       "      <td>6638</td>\n",
       "      <td>Subscriber</td>\n",
       "      <td>1989.0</td>\n",
       "      <td>Other</td>\n",
       "      <td>No</td>\n",
       "      <td>Thursday</td>\n",
       "      <td>17</td>\n",
       "      <td>30.0</td>\n",
       "    </tr>\n",
       "    <tr>\n",
       "      <th>4</th>\n",
       "      <td>1585</td>\n",
       "      <td>2019-02-28 23:54:18.549</td>\n",
       "      <td>2019-03-01 00:20:44.074</td>\n",
       "      <td>7.0</td>\n",
       "      <td>Frank H Ogawa Plaza</td>\n",
       "      <td>37.804562</td>\n",
       "      <td>-122.271738</td>\n",
       "      <td>222.0</td>\n",
       "      <td>10th Ave at E 15th St</td>\n",
       "      <td>37.792714</td>\n",
       "      <td>-122.248780</td>\n",
       "      <td>4898</td>\n",
       "      <td>Subscriber</td>\n",
       "      <td>1974.0</td>\n",
       "      <td>Male</td>\n",
       "      <td>Yes</td>\n",
       "      <td>Thursday</td>\n",
       "      <td>23</td>\n",
       "      <td>45.0</td>\n",
       "    </tr>\n",
       "  </tbody>\n",
       "</table>\n",
       "</div>"
      ],
      "text/plain": [
       "   duration_sec              start_time                end_time  \\\n",
       "0         52185 2019-02-28 17:32:10.145 2019-03-01 08:01:55.975   \n",
       "1         42521 2019-02-28 18:53:21.789 2019-03-01 06:42:03.056   \n",
       "2         61854 2019-02-28 12:13:13.218 2019-03-01 05:24:08.146   \n",
       "3         36490 2019-02-28 17:54:26.010 2019-03-01 04:02:36.842   \n",
       "4          1585 2019-02-28 23:54:18.549 2019-03-01 00:20:44.074   \n",
       "\n",
       "   start_station_id                                start_station_name  \\\n",
       "0              21.0  Montgomery St BART Station (Market St at 2nd St)   \n",
       "1              23.0                     The Embarcadero at Steuart St   \n",
       "2              86.0                           Market St at Dolores St   \n",
       "3             375.0                           Grove St at Masonic Ave   \n",
       "4               7.0                               Frank H Ogawa Plaza   \n",
       "\n",
       "   start_station_latitude  start_station_longitude  end_station_id  \\\n",
       "0               37.789625              -122.400811            13.0   \n",
       "1               37.791464              -122.391034            81.0   \n",
       "2               37.769305              -122.426826             3.0   \n",
       "3               37.774836              -122.446546            70.0   \n",
       "4               37.804562              -122.271738           222.0   \n",
       "\n",
       "                               end_station_name  end_station_latitude  \\\n",
       "0                Commercial St at Montgomery St             37.794231   \n",
       "1                            Berry St at 4th St             37.775880   \n",
       "2  Powell St BART Station (Market St at 4th St)             37.786375   \n",
       "3                        Central Ave at Fell St             37.773311   \n",
       "4                         10th Ave at E 15th St             37.792714   \n",
       "\n",
       "   end_station_longitude  bike_id   user_type  member_birth_year  \\\n",
       "0            -122.402923     4902    Customer             1984.0   \n",
       "1            -122.393170     2535    Customer                NaN   \n",
       "2            -122.404904     5905    Customer             1972.0   \n",
       "3            -122.444293     6638  Subscriber             1989.0   \n",
       "4            -122.248780     4898  Subscriber             1974.0   \n",
       "\n",
       "  member_gender bike_share_for_all_trip start_time_weekday  start_time_hour  \\\n",
       "0          Male                      No           Thursday               17   \n",
       "1           NaN                      No           Thursday               18   \n",
       "2          Male                      No           Thursday               12   \n",
       "3         Other                      No           Thursday               17   \n",
       "4          Male                     Yes           Thursday               23   \n",
       "\n",
       "    age  \n",
       "0  35.0  \n",
       "1   NaN  \n",
       "2  47.0  \n",
       "3  30.0  \n",
       "4  45.0  "
      ]
     },
     "execution_count": 7,
     "metadata": {},
     "output_type": "execute_result"
    }
   ],
   "source": [
    "#It is import to know the age of the users in order to\n",
    "#get insights on the target audience.\n",
    "bike_trips['age'] = 2019 - bike_trips['member_birth_year']\n",
    "bike_trips.head()"
   ]
  },
  {
   "cell_type": "code",
   "execution_count": 45,
   "metadata": {},
   "outputs": [
    {
     "data": {
      "text/html": [
       "<div>\n",
       "<style scoped>\n",
       "    .dataframe tbody tr th:only-of-type {\n",
       "        vertical-align: middle;\n",
       "    }\n",
       "\n",
       "    .dataframe tbody tr th {\n",
       "        vertical-align: top;\n",
       "    }\n",
       "\n",
       "    .dataframe thead th {\n",
       "        text-align: right;\n",
       "    }\n",
       "</style>\n",
       "<table border=\"1\" class=\"dataframe\">\n",
       "  <thead>\n",
       "    <tr style=\"text-align: right;\">\n",
       "      <th></th>\n",
       "      <th>duration_sec</th>\n",
       "      <th>start_time</th>\n",
       "      <th>end_time</th>\n",
       "      <th>start_station_id</th>\n",
       "      <th>start_station_name</th>\n",
       "      <th>start_station_latitude</th>\n",
       "      <th>start_station_longitude</th>\n",
       "      <th>end_station_id</th>\n",
       "      <th>end_station_name</th>\n",
       "      <th>end_station_latitude</th>\n",
       "      <th>...</th>\n",
       "      <th>bike_id</th>\n",
       "      <th>user_type</th>\n",
       "      <th>member_birth_year</th>\n",
       "      <th>member_gender</th>\n",
       "      <th>bike_share_for_all_trip</th>\n",
       "      <th>start_time_weekday</th>\n",
       "      <th>start_time_hour</th>\n",
       "      <th>age</th>\n",
       "      <th>duration_min</th>\n",
       "      <th>route</th>\n",
       "    </tr>\n",
       "  </thead>\n",
       "  <tbody>\n",
       "    <tr>\n",
       "      <th>0</th>\n",
       "      <td>52185</td>\n",
       "      <td>2019-02-28 17:32:10.145</td>\n",
       "      <td>2019-03-01 08:01:55.975</td>\n",
       "      <td>21.0</td>\n",
       "      <td>Montgomery St BART Station (Market St at 2nd St)</td>\n",
       "      <td>37.789625</td>\n",
       "      <td>-122.400811</td>\n",
       "      <td>13.0</td>\n",
       "      <td>Commercial St at Montgomery St</td>\n",
       "      <td>37.794231</td>\n",
       "      <td>...</td>\n",
       "      <td>4902</td>\n",
       "      <td>Customer</td>\n",
       "      <td>1984.0</td>\n",
       "      <td>Male</td>\n",
       "      <td>No</td>\n",
       "      <td>Thursday</td>\n",
       "      <td>17</td>\n",
       "      <td>35.0</td>\n",
       "      <td>869.75</td>\n",
       "      <td>Montgomery St BART Station (Market St at 2nd St) to Commercial St at Montgomery St</td>\n",
       "    </tr>\n",
       "    <tr>\n",
       "      <th>1</th>\n",
       "      <td>42521</td>\n",
       "      <td>2019-02-28 18:53:21.789</td>\n",
       "      <td>2019-03-01 06:42:03.056</td>\n",
       "      <td>23.0</td>\n",
       "      <td>The Embarcadero at Steuart St</td>\n",
       "      <td>37.791464</td>\n",
       "      <td>-122.391034</td>\n",
       "      <td>81.0</td>\n",
       "      <td>Berry St at 4th St</td>\n",
       "      <td>37.775880</td>\n",
       "      <td>...</td>\n",
       "      <td>2535</td>\n",
       "      <td>Customer</td>\n",
       "      <td>NaN</td>\n",
       "      <td>NaN</td>\n",
       "      <td>No</td>\n",
       "      <td>Thursday</td>\n",
       "      <td>18</td>\n",
       "      <td>NaN</td>\n",
       "      <td>708.68</td>\n",
       "      <td>The Embarcadero at Steuart St to Berry St at 4th St</td>\n",
       "    </tr>\n",
       "    <tr>\n",
       "      <th>2</th>\n",
       "      <td>61854</td>\n",
       "      <td>2019-02-28 12:13:13.218</td>\n",
       "      <td>2019-03-01 05:24:08.146</td>\n",
       "      <td>86.0</td>\n",
       "      <td>Market St at Dolores St</td>\n",
       "      <td>37.769305</td>\n",
       "      <td>-122.426826</td>\n",
       "      <td>3.0</td>\n",
       "      <td>Powell St BART Station (Market St at 4th St)</td>\n",
       "      <td>37.786375</td>\n",
       "      <td>...</td>\n",
       "      <td>5905</td>\n",
       "      <td>Customer</td>\n",
       "      <td>1972.0</td>\n",
       "      <td>Male</td>\n",
       "      <td>No</td>\n",
       "      <td>Thursday</td>\n",
       "      <td>12</td>\n",
       "      <td>47.0</td>\n",
       "      <td>1030.90</td>\n",
       "      <td>Market St at Dolores St to Powell St BART Station (Market St at 4th St)</td>\n",
       "    </tr>\n",
       "    <tr>\n",
       "      <th>3</th>\n",
       "      <td>36490</td>\n",
       "      <td>2019-02-28 17:54:26.010</td>\n",
       "      <td>2019-03-01 04:02:36.842</td>\n",
       "      <td>375.0</td>\n",
       "      <td>Grove St at Masonic Ave</td>\n",
       "      <td>37.774836</td>\n",
       "      <td>-122.446546</td>\n",
       "      <td>70.0</td>\n",
       "      <td>Central Ave at Fell St</td>\n",
       "      <td>37.773311</td>\n",
       "      <td>...</td>\n",
       "      <td>6638</td>\n",
       "      <td>Subscriber</td>\n",
       "      <td>1989.0</td>\n",
       "      <td>Other</td>\n",
       "      <td>No</td>\n",
       "      <td>Thursday</td>\n",
       "      <td>17</td>\n",
       "      <td>30.0</td>\n",
       "      <td>608.17</td>\n",
       "      <td>Grove St at Masonic Ave to Central Ave at Fell St</td>\n",
       "    </tr>\n",
       "    <tr>\n",
       "      <th>4</th>\n",
       "      <td>1585</td>\n",
       "      <td>2019-02-28 23:54:18.549</td>\n",
       "      <td>2019-03-01 00:20:44.074</td>\n",
       "      <td>7.0</td>\n",
       "      <td>Frank H Ogawa Plaza</td>\n",
       "      <td>37.804562</td>\n",
       "      <td>-122.271738</td>\n",
       "      <td>222.0</td>\n",
       "      <td>10th Ave at E 15th St</td>\n",
       "      <td>37.792714</td>\n",
       "      <td>...</td>\n",
       "      <td>4898</td>\n",
       "      <td>Subscriber</td>\n",
       "      <td>1974.0</td>\n",
       "      <td>Male</td>\n",
       "      <td>Yes</td>\n",
       "      <td>Thursday</td>\n",
       "      <td>23</td>\n",
       "      <td>45.0</td>\n",
       "      <td>26.42</td>\n",
       "      <td>Frank H Ogawa Plaza to 10th Ave at E 15th St</td>\n",
       "    </tr>\n",
       "  </tbody>\n",
       "</table>\n",
       "<p>5 rows × 21 columns</p>\n",
       "</div>"
      ],
      "text/plain": [
       "   duration_sec              start_time                end_time  \\\n",
       "0  52185        2019-02-28 17:32:10.145 2019-03-01 08:01:55.975   \n",
       "1  42521        2019-02-28 18:53:21.789 2019-03-01 06:42:03.056   \n",
       "2  61854        2019-02-28 12:13:13.218 2019-03-01 05:24:08.146   \n",
       "3  36490        2019-02-28 17:54:26.010 2019-03-01 04:02:36.842   \n",
       "4  1585         2019-02-28 23:54:18.549 2019-03-01 00:20:44.074   \n",
       "\n",
       "   start_station_id                                start_station_name  \\\n",
       "0  21.0              Montgomery St BART Station (Market St at 2nd St)   \n",
       "1  23.0              The Embarcadero at Steuart St                      \n",
       "2  86.0              Market St at Dolores St                            \n",
       "3  375.0             Grove St at Masonic Ave                            \n",
       "4  7.0               Frank H Ogawa Plaza                                \n",
       "\n",
       "   start_station_latitude  start_station_longitude  end_station_id  \\\n",
       "0  37.789625              -122.400811               13.0             \n",
       "1  37.791464              -122.391034               81.0             \n",
       "2  37.769305              -122.426826               3.0              \n",
       "3  37.774836              -122.446546               70.0             \n",
       "4  37.804562              -122.271738               222.0            \n",
       "\n",
       "                               end_station_name  end_station_latitude  \\\n",
       "0  Commercial St at Montgomery St                37.794231              \n",
       "1  Berry St at 4th St                            37.775880              \n",
       "2  Powell St BART Station (Market St at 4th St)  37.786375              \n",
       "3  Central Ave at Fell St                        37.773311              \n",
       "4  10th Ave at E 15th St                         37.792714              \n",
       "\n",
       "                                          ...                                          \\\n",
       "0                                         ...                                           \n",
       "1                                         ...                                           \n",
       "2                                         ...                                           \n",
       "3                                         ...                                           \n",
       "4                                         ...                                           \n",
       "\n",
       "   bike_id   user_type member_birth_year  member_gender  \\\n",
       "0  4902     Customer    1984.0            Male            \n",
       "1  2535     Customer   NaN                NaN             \n",
       "2  5905     Customer    1972.0            Male            \n",
       "3  6638     Subscriber  1989.0            Other           \n",
       "4  4898     Subscriber  1974.0            Male            \n",
       "\n",
       "  bike_share_for_all_trip start_time_weekday start_time_hour   age  \\\n",
       "0  No                      Thursday           17              35.0   \n",
       "1  No                      Thursday           18             NaN     \n",
       "2  No                      Thursday           12              47.0   \n",
       "3  No                      Thursday           17              30.0   \n",
       "4  Yes                     Thursday           23              45.0   \n",
       "\n",
       "   duration_min  \\\n",
       "0  869.75         \n",
       "1  708.68         \n",
       "2  1030.90        \n",
       "3  608.17         \n",
       "4  26.42          \n",
       "\n",
       "                                                                                route  \n",
       "0  Montgomery St BART Station (Market St at 2nd St) to Commercial St at Montgomery St  \n",
       "1  The Embarcadero at Steuart St to Berry St at 4th St                                 \n",
       "2  Market St at Dolores St to Powell St BART Station (Market St at 4th St)             \n",
       "3  Grove St at Masonic Ave to Central Ave at Fell St                                   \n",
       "4  Frank H Ogawa Plaza to 10th Ave at E 15th St                                        \n",
       "\n",
       "[5 rows x 21 columns]"
      ]
     },
     "execution_count": 45,
     "metadata": {},
     "output_type": "execute_result"
    }
   ],
   "source": [
    "#converting duration from seconds to minutes\n",
    "bike_trips['duration_min'] = round(bike_trips['duration_sec']/60, 2)\n",
    "bike_trips.head()"
   ]
  },
  {
   "cell_type": "code",
   "execution_count": 28,
   "metadata": {},
   "outputs": [
    {
     "data": {
      "text/html": [
       "<div>\n",
       "<style scoped>\n",
       "    .dataframe tbody tr th:only-of-type {\n",
       "        vertical-align: middle;\n",
       "    }\n",
       "\n",
       "    .dataframe tbody tr th {\n",
       "        vertical-align: top;\n",
       "    }\n",
       "\n",
       "    .dataframe thead th {\n",
       "        text-align: right;\n",
       "    }\n",
       "</style>\n",
       "<table border=\"1\" class=\"dataframe\">\n",
       "  <thead>\n",
       "    <tr style=\"text-align: right;\">\n",
       "      <th></th>\n",
       "      <th>duration_sec</th>\n",
       "      <th>start_time</th>\n",
       "      <th>end_time</th>\n",
       "      <th>start_station_id</th>\n",
       "      <th>start_station_name</th>\n",
       "      <th>start_station_latitude</th>\n",
       "      <th>start_station_longitude</th>\n",
       "      <th>end_station_id</th>\n",
       "      <th>end_station_name</th>\n",
       "      <th>end_station_latitude</th>\n",
       "      <th>...</th>\n",
       "      <th>bike_id</th>\n",
       "      <th>user_type</th>\n",
       "      <th>member_birth_year</th>\n",
       "      <th>member_gender</th>\n",
       "      <th>bike_share_for_all_trip</th>\n",
       "      <th>start_time_weekday</th>\n",
       "      <th>start_time_hour</th>\n",
       "      <th>age</th>\n",
       "      <th>duration_min</th>\n",
       "      <th>route</th>\n",
       "    </tr>\n",
       "  </thead>\n",
       "  <tbody>\n",
       "    <tr>\n",
       "      <th>0</th>\n",
       "      <td>52185</td>\n",
       "      <td>2019-02-28 17:32:10.145</td>\n",
       "      <td>2019-03-01 08:01:55.975</td>\n",
       "      <td>21.0</td>\n",
       "      <td>Montgomery St BART Station (Market St at 2nd St)</td>\n",
       "      <td>37.789625</td>\n",
       "      <td>-122.400811</td>\n",
       "      <td>13.0</td>\n",
       "      <td>Commercial St at Montgomery St</td>\n",
       "      <td>37.794231</td>\n",
       "      <td>...</td>\n",
       "      <td>4902</td>\n",
       "      <td>Customer</td>\n",
       "      <td>1984.0</td>\n",
       "      <td>Male</td>\n",
       "      <td>No</td>\n",
       "      <td>Thursday</td>\n",
       "      <td>17</td>\n",
       "      <td>35.0</td>\n",
       "      <td>869.75</td>\n",
       "      <td>Montgomery St BART Station (Market St at 2nd St) to Commercial St at Montgomery St</td>\n",
       "    </tr>\n",
       "    <tr>\n",
       "      <th>1</th>\n",
       "      <td>42521</td>\n",
       "      <td>2019-02-28 18:53:21.789</td>\n",
       "      <td>2019-03-01 06:42:03.056</td>\n",
       "      <td>23.0</td>\n",
       "      <td>The Embarcadero at Steuart St</td>\n",
       "      <td>37.791464</td>\n",
       "      <td>-122.391034</td>\n",
       "      <td>81.0</td>\n",
       "      <td>Berry St at 4th St</td>\n",
       "      <td>37.775880</td>\n",
       "      <td>...</td>\n",
       "      <td>2535</td>\n",
       "      <td>Customer</td>\n",
       "      <td>NaN</td>\n",
       "      <td>NaN</td>\n",
       "      <td>No</td>\n",
       "      <td>Thursday</td>\n",
       "      <td>18</td>\n",
       "      <td>NaN</td>\n",
       "      <td>708.68</td>\n",
       "      <td>The Embarcadero at Steuart St to Berry St at 4th St</td>\n",
       "    </tr>\n",
       "    <tr>\n",
       "      <th>2</th>\n",
       "      <td>61854</td>\n",
       "      <td>2019-02-28 12:13:13.218</td>\n",
       "      <td>2019-03-01 05:24:08.146</td>\n",
       "      <td>86.0</td>\n",
       "      <td>Market St at Dolores St</td>\n",
       "      <td>37.769305</td>\n",
       "      <td>-122.426826</td>\n",
       "      <td>3.0</td>\n",
       "      <td>Powell St BART Station (Market St at 4th St)</td>\n",
       "      <td>37.786375</td>\n",
       "      <td>...</td>\n",
       "      <td>5905</td>\n",
       "      <td>Customer</td>\n",
       "      <td>1972.0</td>\n",
       "      <td>Male</td>\n",
       "      <td>No</td>\n",
       "      <td>Thursday</td>\n",
       "      <td>12</td>\n",
       "      <td>47.0</td>\n",
       "      <td>1030.90</td>\n",
       "      <td>Market St at Dolores St to Powell St BART Station (Market St at 4th St)</td>\n",
       "    </tr>\n",
       "    <tr>\n",
       "      <th>3</th>\n",
       "      <td>36490</td>\n",
       "      <td>2019-02-28 17:54:26.010</td>\n",
       "      <td>2019-03-01 04:02:36.842</td>\n",
       "      <td>375.0</td>\n",
       "      <td>Grove St at Masonic Ave</td>\n",
       "      <td>37.774836</td>\n",
       "      <td>-122.446546</td>\n",
       "      <td>70.0</td>\n",
       "      <td>Central Ave at Fell St</td>\n",
       "      <td>37.773311</td>\n",
       "      <td>...</td>\n",
       "      <td>6638</td>\n",
       "      <td>Subscriber</td>\n",
       "      <td>1989.0</td>\n",
       "      <td>Other</td>\n",
       "      <td>No</td>\n",
       "      <td>Thursday</td>\n",
       "      <td>17</td>\n",
       "      <td>30.0</td>\n",
       "      <td>608.17</td>\n",
       "      <td>Grove St at Masonic Ave to Central Ave at Fell St</td>\n",
       "    </tr>\n",
       "    <tr>\n",
       "      <th>4</th>\n",
       "      <td>1585</td>\n",
       "      <td>2019-02-28 23:54:18.549</td>\n",
       "      <td>2019-03-01 00:20:44.074</td>\n",
       "      <td>7.0</td>\n",
       "      <td>Frank H Ogawa Plaza</td>\n",
       "      <td>37.804562</td>\n",
       "      <td>-122.271738</td>\n",
       "      <td>222.0</td>\n",
       "      <td>10th Ave at E 15th St</td>\n",
       "      <td>37.792714</td>\n",
       "      <td>...</td>\n",
       "      <td>4898</td>\n",
       "      <td>Subscriber</td>\n",
       "      <td>1974.0</td>\n",
       "      <td>Male</td>\n",
       "      <td>Yes</td>\n",
       "      <td>Thursday</td>\n",
       "      <td>23</td>\n",
       "      <td>45.0</td>\n",
       "      <td>26.42</td>\n",
       "      <td>Frank H Ogawa Plaza to 10th Ave at E 15th St</td>\n",
       "    </tr>\n",
       "  </tbody>\n",
       "</table>\n",
       "<p>5 rows × 21 columns</p>\n",
       "</div>"
      ],
      "text/plain": [
       "   duration_sec              start_time                end_time  \\\n",
       "0  52185        2019-02-28 17:32:10.145 2019-03-01 08:01:55.975   \n",
       "1  42521        2019-02-28 18:53:21.789 2019-03-01 06:42:03.056   \n",
       "2  61854        2019-02-28 12:13:13.218 2019-03-01 05:24:08.146   \n",
       "3  36490        2019-02-28 17:54:26.010 2019-03-01 04:02:36.842   \n",
       "4  1585         2019-02-28 23:54:18.549 2019-03-01 00:20:44.074   \n",
       "\n",
       "   start_station_id                                start_station_name  \\\n",
       "0  21.0              Montgomery St BART Station (Market St at 2nd St)   \n",
       "1  23.0              The Embarcadero at Steuart St                      \n",
       "2  86.0              Market St at Dolores St                            \n",
       "3  375.0             Grove St at Masonic Ave                            \n",
       "4  7.0               Frank H Ogawa Plaza                                \n",
       "\n",
       "   start_station_latitude  start_station_longitude  end_station_id  \\\n",
       "0  37.789625              -122.400811               13.0             \n",
       "1  37.791464              -122.391034               81.0             \n",
       "2  37.769305              -122.426826               3.0              \n",
       "3  37.774836              -122.446546               70.0             \n",
       "4  37.804562              -122.271738               222.0            \n",
       "\n",
       "                               end_station_name  end_station_latitude  \\\n",
       "0  Commercial St at Montgomery St                37.794231              \n",
       "1  Berry St at 4th St                            37.775880              \n",
       "2  Powell St BART Station (Market St at 4th St)  37.786375              \n",
       "3  Central Ave at Fell St                        37.773311              \n",
       "4  10th Ave at E 15th St                         37.792714              \n",
       "\n",
       "                                          ...                                          \\\n",
       "0                                         ...                                           \n",
       "1                                         ...                                           \n",
       "2                                         ...                                           \n",
       "3                                         ...                                           \n",
       "4                                         ...                                           \n",
       "\n",
       "   bike_id   user_type member_birth_year  member_gender  \\\n",
       "0  4902     Customer    1984.0            Male            \n",
       "1  2535     Customer   NaN                NaN             \n",
       "2  5905     Customer    1972.0            Male            \n",
       "3  6638     Subscriber  1989.0            Other           \n",
       "4  4898     Subscriber  1974.0            Male            \n",
       "\n",
       "  bike_share_for_all_trip start_time_weekday start_time_hour   age  \\\n",
       "0  No                      Thursday           17              35.0   \n",
       "1  No                      Thursday           18             NaN     \n",
       "2  No                      Thursday           12              47.0   \n",
       "3  No                      Thursday           17              30.0   \n",
       "4  Yes                     Thursday           23              45.0   \n",
       "\n",
       "   duration_min  \\\n",
       "0  869.75         \n",
       "1  708.68         \n",
       "2  1030.90        \n",
       "3  608.17         \n",
       "4  26.42          \n",
       "\n",
       "                                                                                route  \n",
       "0  Montgomery St BART Station (Market St at 2nd St) to Commercial St at Montgomery St  \n",
       "1  The Embarcadero at Steuart St to Berry St at 4th St                                 \n",
       "2  Market St at Dolores St to Powell St BART Station (Market St at 4th St)             \n",
       "3  Grove St at Masonic Ave to Central Ave at Fell St                                   \n",
       "4  Frank H Ogawa Plaza to 10th Ave at E 15th St                                        \n",
       "\n",
       "[5 rows x 21 columns]"
      ]
     },
     "execution_count": 28,
     "metadata": {},
     "output_type": "execute_result"
    }
   ],
   "source": [
    "pd.set_option('display.max_colwidth', -1)\n",
    "bike_trips['route'] = bike_trips['start_station_name'] + ' to ' + bike_trips['end_station_name']\n",
    "bike_trips.head()"
   ]
  },
  {
   "cell_type": "markdown",
   "metadata": {},
   "source": [
    "### What is the structure of your dataset?\n",
    "\n",
    "> There are 183, 412 individual bike trips in the dataset with 16 features which inciude:\n",
    "duration_sec, start_time, end_time, end_time, start_station_id, start_station_nam, start_station_latitude start_station_longitude end_station_id end_station_name end_station_latitude end_station_longitude, bike_id, user_type, member_birth_year, member_gender, bike_share_for_all_trip\n",
    "\n",
    "### What is/are the main feature(s) of interest in your dataset?\n",
    "\n",
    "> I am most interested in features that can give me insights on the demands of bike rides and discovering trends in bike usage in the dataset.\n",
    "\n",
    "### What features in the dataset do you think will help support your investigation into your feature(s) of interest?\n",
    "\n",
    "> I expect types of users, start_time and duration to give me insights on bike usage trends."
   ]
  },
  {
   "cell_type": "markdown",
   "metadata": {},
   "source": [
    "## Univariate Exploration"
   ]
  },
  {
   "cell_type": "markdown",
   "metadata": {},
   "source": [
    "### We are going to start by exploration the distribution of the trip duration in minutes"
   ]
  },
  {
   "cell_type": "code",
   "execution_count": 10,
   "metadata": {},
   "outputs": [
    {
     "data": {
      "image/png": "[encoded data removed]",
      "text/plain": [
       "<matplotlib.figure.Figure at 0x7f68760ec400>"
      ]
     },
     "metadata": {
      "needs_background": "light"
     },
     "output_type": "display_data"
    }
   ],
   "source": [
    "#Getting ticks for bins\n",
    "bins = np.arange(0, bike_trips['duration_min'].max() + 10, 10)\n",
    "\n",
    "#plot histogram\n",
    "plt.figure(figsize=[11, 8])\n",
    "plt.hist(data = bike_trips, x = 'duration_min', bins = bins)\n",
    "plt.xlabel('Duration (min)')\n",
    "plt.ylabel('Number of Trips')\n",
    "plt.title('Distribution of Trip Duration');"
   ]
  },
  {
   "cell_type": "code",
   "execution_count": 11,
   "metadata": {},
   "outputs": [
    {
     "data": {
      "image/png": "[encoded data removed]",
      "text/plain": [
       "<matplotlib.figure.Figure at 0x7f6875d910b8>"
      ]
     },
     "metadata": {
      "needs_background": "light"
     },
     "output_type": "display_data"
    }
   ],
   "source": [
    "#there is a long tail in the distribution, so let's put it on a log scale instead\n",
    "\n",
    "# Get the ticks for bins between [0 - maximum duration]\n",
    "bins1 = 10 ** np.arange(0, np.log10(bike_trips['duration_min'].max()) + 0.1, 0.1)\n",
    "\n",
    "ticks = [1, 2, 5, 10, 20, 50, 100, 200, 500, 1000]\n",
    "# Convert ticks into string values, to be displaye dlong the x-axis\n",
    "labels = ['{}'.format(v) for v in ticks]\n",
    "\n",
    "#plot the histogram\n",
    "plt.figure(figsize=[11, 8])\n",
    "plt.hist(data = bike_trips, x = 'duration_min', bins = bins1);\n",
    "plt.xlabel('Duration (min)')\n",
    "plt.ylabel('Number of Trips')\n",
    "plt.title('Distribution of Trip Duration')\n",
    "\n",
    "#applying a log scale to the x-axis\n",
    "plt.xscale('log')\n",
    "\n",
    "# Apply x-ticks\n",
    "plt.xticks(ticks, labels);"
   ]
  },
  {
   "cell_type": "markdown",
   "metadata": {},
   "source": [
    "Trip duration has a long tailed distribution and when converted to log scale the didtribution is unimodal and fairy symmetric with a top peak between 8 and 10 minutes. Most of the bike rides were less than 30 minutes. "
   ]
  },
  {
   "cell_type": "markdown",
   "metadata": {},
   "source": [
    "**Next we are going to investigate the type of Gobike users. A customer is a user who holds a single-ride or day pass while a subscriber has a monthly or annual pass.**"
   ]
  },
  {
   "cell_type": "code",
   "execution_count": 12,
   "metadata": {},
   "outputs": [
    {
     "data": {
      "image/png": "[encoded data removed]",
      "text/plain": [
       "<matplotlib.figure.Figure at 0x7f6875d57978>"
      ]
     },
     "metadata": {
      "needs_background": "light"
     },
     "output_type": "display_data"
    }
   ],
   "source": [
    "base_color = sb.color_palette()[0]\n",
    "\n",
    "sb.countplot(data = bike_trips, x = 'user_type', color = base_color)\n",
    "plt.title('Types of Users');"
   ]
  },
  {
   "cell_type": "markdown",
   "metadata": {},
   "source": [
    "Clearly majority of the users are subscribers."
   ]
  },
  {
   "cell_type": "markdown",
   "metadata": {},
   "source": [
    "### I will also investage the gender distribution as show below."
   ]
  },
  {
   "cell_type": "code",
   "execution_count": 13,
   "metadata": {},
   "outputs": [
    {
     "data": {
      "image/png": "[encoded data removed]",
      "text/plain": [
       "<matplotlib.figure.Figure at 0x7f68766a2048>"
      ]
     },
     "metadata": {
      "needs_background": "light"
     },
     "output_type": "display_data"
    }
   ],
   "source": [
    "base_color = sb.color_palette()[0]\n",
    "\n",
    "sb.countplot(data = bike_trips, x = 'member_gender', color = base_color)\n",
    "plt.title('Gender');"
   ]
  },
  {
   "cell_type": "markdown",
   "metadata": {},
   "source": [
    "From the bar chart above, male users are significantly more than male users and over 120,000 males used the bike service in 2019."
   ]
  },
  {
   "cell_type": "markdown",
   "metadata": {},
   "source": [
    "### I am also going to investigate the distribution of the age of users."
   ]
  },
  {
   "cell_type": "code",
   "execution_count": 14,
   "metadata": {},
   "outputs": [
    {
     "data": {
      "text/plain": [
       "count    175147.000000\n",
       "mean         34.193563\n",
       "std          10.116689\n",
       "min          18.000000\n",
       "25%          27.000000\n",
       "50%          32.000000\n",
       "75%          39.000000\n",
       "max         141.000000\n",
       "Name: age, dtype: float64"
      ]
     },
     "execution_count": 14,
     "metadata": {},
     "output_type": "execute_result"
    }
   ],
   "source": [
    "bike_trips['age'].describe()"
   ]
  },
  {
   "cell_type": "code",
   "execution_count": 15,
   "metadata": {},
   "outputs": [
    {
     "data": {
      "image/png": "[encoded data removed]",
      "text/plain": [
       "<matplotlib.figure.Figure at 0x7f68753d4b38>"
      ]
     },
     "metadata": {
      "needs_background": "light"
     },
     "output_type": "display_data"
    }
   ],
   "source": [
    "plt.figure(figsize = (10,5), dpi = 200)\n",
    "bins = np.arange(18, bike_trips['age'].max()+1, 1)\n",
    "\n",
    "plt.hist(data = bike_trips.dropna(), x = 'age', bins = bins)\n",
    "plt.xlabel('Age in years')\n",
    "plt.ylabel('Number of Trips')\n",
    "plt.title('Distribution of Age of Users');"
   ]
  },
  {
   "cell_type": "markdown",
   "metadata": {},
   "source": [
    "The distribution indicates that most users are between the age 25 and 35 and the number of users steadily decrease from ages 40 onwards. However we need to investigate the validity of ages since the eldest user is 141 years which is questionable. We will use a boxplot to check for outliers in the Age distribution."
   ]
  },
  {
   "cell_type": "code",
   "execution_count": 16,
   "metadata": {},
   "outputs": [
    {
     "data": {
      "image/png": "[encoded data removed]",
      "text/plain": [
       "<matplotlib.figure.Figure at 0x7f68752a26d8>"
      ]
     },
     "metadata": {
      "needs_background": "light"
     },
     "output_type": "display_data"
    }
   ],
   "source": [
    "#checking for outliers in Age variable\n",
    "plt.figure(figsize = (6,5), dpi = 200)\n",
    "\n",
    "#plotting boxplot\n",
    "plt.boxplot(data = bike_trips.dropna(), x = 'age', vert=True)\n",
    "\n",
    "plt.xlabel('User Age distribution')\n",
    "plt.ylabel('Frequency')\n",
    "plt.title(\"\");"
   ]
  },
  {
   "cell_type": "markdown",
   "metadata": {},
   "source": [
    "Next we will investigate the average number of trips made on different days of the week."
   ]
  },
  {
   "cell_type": "code",
   "execution_count": 17,
   "metadata": {},
   "outputs": [
    {
     "data": {
      "image/png": "[encoded data removed]",
      "text/plain": [
       "<matplotlib.figure.Figure at 0x7f6874e84198>"
      ]
     },
     "metadata": {
      "needs_background": "light"
     },
     "output_type": "display_data"
    }
   ],
   "source": [
    "days = ['Monday', 'Tuesday', 'Wednesday', 'Thursday', 'Friday', 'Saturday', 'Sunday']\n",
    "sb.countplot(data = bike_trips, x = 'start_time_weekday', color = base_color, order = days)\n",
    "plt.xticks(rotation = 45)\n",
    "plt.xlabel('Days of the Week')\n",
    "plt.ylabel('Number of Trips')\n",
    "plt.title('Bike Usage by Weekday');"
   ]
  },
  {
   "cell_type": "markdown",
   "metadata": {},
   "source": [
    "We can observe there are generally more bike rides from Monday to Friday than during the weekends that is Saturday and Sunday."
   ]
  },
  {
   "cell_type": "markdown",
   "metadata": {},
   "source": [
    "**I was also interested in investigating bike usage by hour.**"
   ]
  },
  {
   "cell_type": "code",
   "execution_count": 18,
   "metadata": {},
   "outputs": [
    {
     "data": {
      "image/png": "[encoded data removed]",
      "text/plain": [
       "<matplotlib.figure.Figure at 0x7f687516e400>"
      ]
     },
     "metadata": {
      "needs_background": "light"
     },
     "output_type": "display_data"
    }
   ],
   "source": [
    "hours = np.arange(0, 24, 1)\n",
    "\n",
    "\n",
    "plt.figure(figsize = (10,5))\n",
    "#use a countplot because hours are discrete\n",
    "sb.countplot(data = bike_trips, x = 'start_time_hour', order = hours, color = base_color);\n",
    "plt.xlabel('Hours')\n",
    "plt.ylabel('Number of Rides')\n",
    "plt.title('Total Rides Per Hour');\n"
   ]
  },
  {
   "cell_type": "markdown",
   "metadata": {},
   "source": [
    "A bimodal distribution can be observed with two peaks at 8am and 5pm. This may because they are commute hours and hence the busiest time of the day. We can also observe that the least number of rides are made between 1am and 4am which is when most people are asleep."
   ]
  },
  {
   "cell_type": "markdown",
   "metadata": {},
   "source": [
    "**Finally I was also interested in investigating the most popular routes during a bike ride.**"
   ]
  },
  {
   "cell_type": "code",
   "execution_count": 42,
   "metadata": {},
   "outputs": [
    {
     "data": {
      "image/png": "[encoded data removed]",
      "text/plain": [
       "<matplotlib.figure.Figure at 0x7f68712180f0>"
      ]
     },
     "metadata": {
      "needs_background": "light"
     },
     "output_type": "display_data"
    }
   ],
   "source": [
    "plt.figure(figsize = (20,8))\n",
    "ax = sb.barplot(y = bike_trips['route'].value_counts()[0:10].index,\n",
    "            x = bike_trips['route'].value_counts()[0:10],\n",
    "            data = bike_trips, color = base_color);\n",
    "plt.xlabel(\"Number of Trips\",fontsize = 30);\n",
    "plt.ylabel(\"Routes\",fontsize = 30);\n",
    "plt.title(\"Top 10 Routes\",fontsize = 25);"
   ]
  },
  {
   "cell_type": "markdown",
   "metadata": {},
   "source": [
    "We can clearly see the most popular biking routes with `Berry St at 4th St to Sanfransisco Ferry Building` taking the lead. This is very useful information which can be used to decide on the number of bikes to avail at each station."
   ]
  },
  {
   "cell_type": "markdown",
   "metadata": {},
   "source": [
    "### Discuss the distribution(s) of your variable(s) of interest. Were there any unusual points? Did you need to perform any transformations?\n",
    "\n",
    "The duration variable in minutes took on a large range of values, so I looked at the data using a log transform. Under the transformation, the data looked unimodal, with one peak between 8 and 10 minutes.\n",
    "\n",
    "### Of the features you investigated, were there any unusual distributions? Did you perform any operations on the data to tidy, adjust, or change the form of the data? If so, why did you do this?\n",
    "\n",
    "When investigating the duration_sec we had to convert it to minutes by dividing by 60 and to get the age of the users I had to subtract `member_birth_year` from the year the dataset was collected which is 2019. The were also some few outliers in the newly created Age variable. I also needed to create a new variable `route` by concatinating `start_station_name` and `end_station_name` so that I can investigate the most popular routes."
   ]
  },
  {
   "cell_type": "markdown",
   "metadata": {},
   "source": [
    "## Bivariate Exploration"
   ]
  },
  {
   "cell_type": "markdown",
   "metadata": {},
   "source": [
    "**First thing I am curious about is which type of users spends more time during their bike rides.**"
   ]
  },
  {
   "cell_type": "code",
   "execution_count": 20,
   "metadata": {},
   "outputs": [
    {
     "data": {
      "image/png": "[encoded data removed]",
      "text/plain": [
       "<matplotlib.figure.Figure at 0x7f687511c400>"
      ]
     },
     "metadata": {
      "needs_background": "light"
     },
     "output_type": "display_data"
    }
   ],
   "source": [
    "sb.barplot(data = bike_trips, x = 'user_type', y = 'duration_sec', color = base_color)\n",
    "plt.title('Duration in Seconds Spent by Users')\n",
    "plt.xlabel('Users')\n",
    "plt.ylabel('Duration(sec)');"
   ]
  },
  {
   "cell_type": "markdown",
   "metadata": {},
   "source": [
    "Customers actually spend more time during their rides than subscribers."
   ]
  },
  {
   "cell_type": "markdown",
   "metadata": {},
   "source": [
    "**I also investigated if the is a relationship between age of users and duration of bike trips.**"
   ]
  },
  {
   "cell_type": "code",
   "execution_count": 21,
   "metadata": {},
   "outputs": [
    {
     "data": {
      "image/png": "[encoded data removed]",
      "text/plain": [
       "<matplotlib.figure.Figure at 0x7f6875c4d198>"
      ]
     },
     "metadata": {
      "needs_background": "light"
     },
     "output_type": "display_data"
    }
   ],
   "source": [
    "plt.figure(figsize = (8,5))\n",
    "plt.scatter(data = bike_trips, y = 'age', x = 'duration_min', alpha = 1/8);\n",
    "plt.title('Relationship between Age and Duration')\n",
    "plt.xlabel('Duration in Minutes')\n",
    "plt.ylabel('Age');"
   ]
  },
  {
   "cell_type": "markdown",
   "metadata": {},
   "source": [
    "It can be observed users of all ages tend to have bike trips which less than 200 minutes."
   ]
  },
  {
   "cell_type": "markdown",
   "metadata": {},
   "source": [
    "**Next up I want to investigate the distribution of start hour of bike trips with respect to type of user.**"
   ]
  },
  {
   "cell_type": "code",
   "execution_count": 22,
   "metadata": {},
   "outputs": [
    {
     "data": {
      "image/png": "[encoded data removed]",
      "text/plain": [
       "<matplotlib.figure.Figure at 0x7f68750a8c18>"
      ]
     },
     "metadata": {
      "needs_background": "light"
     },
     "output_type": "display_data"
    }
   ],
   "source": [
    "plt.figure(figsize = (10,6))\n",
    "sb.countplot(data = bike_trips, x = 'start_time_hour', hue = 'user_type')\n",
    "plt.xlabel('Hours');\n",
    "plt.title('Relationship between User_Type and Start_Hour')\n",
    "plt.legend();"
   ]
  },
  {
   "cell_type": "markdown",
   "metadata": {},
   "source": [
    "Generally subscribers take more bike rides compared to customers especially during commuting hours."
   ]
  },
  {
   "cell_type": "markdown",
   "metadata": {},
   "source": [
    "**It is also important I investigate the trends in usage of bikes along the week.**"
   ]
  },
  {
   "cell_type": "code",
   "execution_count": 46,
   "metadata": {},
   "outputs": [
    {
     "data": {
      "text/html": [
       "<div>\n",
       "<style scoped>\n",
       "    .dataframe tbody tr th:only-of-type {\n",
       "        vertical-align: middle;\n",
       "    }\n",
       "\n",
       "    .dataframe tbody tr th {\n",
       "        vertical-align: top;\n",
       "    }\n",
       "\n",
       "    .dataframe thead th {\n",
       "        text-align: right;\n",
       "    }\n",
       "</style>\n",
       "<table border=\"1\" class=\"dataframe\">\n",
       "  <thead>\n",
       "    <tr style=\"text-align: right;\">\n",
       "      <th></th>\n",
       "      <th>start_time_weekday</th>\n",
       "      <th>user_type</th>\n",
       "      <th>0</th>\n",
       "    </tr>\n",
       "  </thead>\n",
       "  <tbody>\n",
       "    <tr>\n",
       "      <th>0</th>\n",
       "      <td>Friday</td>\n",
       "      <td>Subscriber</td>\n",
       "      <td>25951</td>\n",
       "    </tr>\n",
       "    <tr>\n",
       "      <th>1</th>\n",
       "      <td>Friday</td>\n",
       "      <td>Customer</td>\n",
       "      <td>3030</td>\n",
       "    </tr>\n",
       "    <tr>\n",
       "      <th>2</th>\n",
       "      <td>Monday</td>\n",
       "      <td>Subscriber</td>\n",
       "      <td>24111</td>\n",
       "    </tr>\n",
       "    <tr>\n",
       "      <th>3</th>\n",
       "      <td>Monday</td>\n",
       "      <td>Customer</td>\n",
       "      <td>2741</td>\n",
       "    </tr>\n",
       "    <tr>\n",
       "      <th>4</th>\n",
       "      <td>Saturday</td>\n",
       "      <td>Subscriber</td>\n",
       "      <td>12666</td>\n",
       "    </tr>\n",
       "    <tr>\n",
       "      <th>5</th>\n",
       "      <td>Saturday</td>\n",
       "      <td>Customer</td>\n",
       "      <td>2739</td>\n",
       "    </tr>\n",
       "    <tr>\n",
       "      <th>6</th>\n",
       "      <td>Sunday</td>\n",
       "      <td>Subscriber</td>\n",
       "      <td>12627</td>\n",
       "    </tr>\n",
       "    <tr>\n",
       "      <th>7</th>\n",
       "      <td>Sunday</td>\n",
       "      <td>Customer</td>\n",
       "      <td>2896</td>\n",
       "    </tr>\n",
       "    <tr>\n",
       "      <th>8</th>\n",
       "      <td>Thursday</td>\n",
       "      <td>Subscriber</td>\n",
       "      <td>31807</td>\n",
       "    </tr>\n",
       "    <tr>\n",
       "      <th>9</th>\n",
       "      <td>Thursday</td>\n",
       "      <td>Customer</td>\n",
       "      <td>3390</td>\n",
       "    </tr>\n",
       "    <tr>\n",
       "      <th>10</th>\n",
       "      <td>Tuesday</td>\n",
       "      <td>Subscriber</td>\n",
       "      <td>29207</td>\n",
       "    </tr>\n",
       "    <tr>\n",
       "      <th>11</th>\n",
       "      <td>Tuesday</td>\n",
       "      <td>Customer</td>\n",
       "      <td>2606</td>\n",
       "    </tr>\n",
       "    <tr>\n",
       "      <th>12</th>\n",
       "      <td>Wednesday</td>\n",
       "      <td>Subscriber</td>\n",
       "      <td>27175</td>\n",
       "    </tr>\n",
       "    <tr>\n",
       "      <th>13</th>\n",
       "      <td>Wednesday</td>\n",
       "      <td>Customer</td>\n",
       "      <td>2466</td>\n",
       "    </tr>\n",
       "  </tbody>\n",
       "</table>\n",
       "</div>"
      ],
      "text/plain": [
       "   start_time_weekday   user_type      0\n",
       "0   Friday             Subscriber  25951\n",
       "1   Friday             Customer    3030 \n",
       "2   Monday             Subscriber  24111\n",
       "3   Monday             Customer    2741 \n",
       "4   Saturday           Subscriber  12666\n",
       "5   Saturday           Customer    2739 \n",
       "6   Sunday             Subscriber  12627\n",
       "7   Sunday             Customer    2896 \n",
       "8   Thursday           Subscriber  31807\n",
       "9   Thursday           Customer    3390 \n",
       "10  Tuesday            Subscriber  29207\n",
       "11  Tuesday            Customer    2606 \n",
       "12  Wednesday          Subscriber  27175\n",
       "13  Wednesday          Customer    2466 "
      ]
     },
     "execution_count": 46,
     "metadata": {},
     "output_type": "execute_result"
    }
   ],
   "source": [
    "bike_trips_sub = bike_trips.groupby(['start_time_weekday', 'user_type']).size().reset_index()\n",
    "bike_trips_sub"
   ]
  },
  {
   "cell_type": "code",
   "execution_count": 47,
   "metadata": {},
   "outputs": [
    {
     "data": {
      "image/png": "[encoded data removed]",
      "text/plain": [
       "<matplotlib.figure.Figure at 0x7f687175e320>"
      ]
     },
     "metadata": {
      "needs_background": "light"
     },
     "output_type": "display_data"
    }
   ],
   "source": [
    "plt.figure(figsize = (10,5))\n",
    "sb.pointplot(data = bike_trips_sub, x = 'start_time_weekday', y = 0,hue = 'user_type', order = days)\n",
    "plt.xticks(rotation = 45)\n",
    "plt.legend()\n",
    "plt.xlabel('Days of the Week')\n",
    "plt.ylabel('Number of Trips')\n",
    "plt.title('Bike Usage by Users along the Week');"
   ]
  },
  {
   "cell_type": "markdown",
   "metadata": {},
   "source": [
    "Clearly subscribers use the bike sharing system more than customers along the week. Customers have a relatively consistent bike trips along the week while we can observe a big decrease in bike trips during the weekend for subscribers."
   ]
  },
  {
   "cell_type": "markdown",
   "metadata": {},
   "source": [
    "### Talk about some of the relationships you observed in this part of the investigation. How did the feature(s) of interest vary with other features in the dataset?\n",
    "\n",
    "> I was interested in knowing which users take more rides at different hours of the day and during different days of the week. Turns out subscribers take significantly more bike rides than customers. I also investigated if the age of a user had any influence on the duration of bike ride. The conclusion was that that users of all ages take bike rides that are less than 200 minutes. Furthermore, when investigating which type of users take longer bike rides, it was suprising to seee that customers actually take longer bike rides than subscribers.\n",
    "\n",
    "### Did you observe any interesting relationships between the other features (not the main feature(s) of interest)?\n",
    "\n",
    "> I was expecting "
   ]
  },
  {
   "cell_type": "markdown",
   "metadata": {},
   "source": [
    "## Multivariate Exploration\n",
    "\n",
    "> Create plots of three or more variables to investigate your data even\n",
    "further. Make sure that your investigations are justified, and follow from\n",
    "your work in the previous sections."
   ]
  },
  {
   "cell_type": "markdown",
   "metadata": {},
   "source": [
    "**First thing I would like to investigate is the bike ride duration along the week with respect to different user genders.**"
   ]
  },
  {
   "cell_type": "code",
   "execution_count": null,
   "metadata": {},
   "outputs": [],
   "source": [
    "plt.figure(figsize = (10,5))\n",
    "sb.pointplot(data = bike_trips, x = 'start_time_weekday', y = 'duration_min', hue = 'member_gender', palette = 'Blues', ci=None, order = days)\n",
    "plt.legend()\n",
    "plt.xlabel('Days of the Week')\n",
    "plt.ylabel('Duration in Minutes')\n",
    "plt.title('Trends in Bike Ride Duration along the Week by Gender');"
   ]
  },
  {
   "cell_type": "markdown",
   "metadata": {},
   "source": [
    "We can observe that females take longer bike rides along the week compared to male users."
   ]
  },
  {
   "cell_type": "markdown",
   "metadata": {},
   "source": [
    "**Another thing I was curious about is whick types of users take longer bike rides along the week.**"
   ]
  },
  {
   "cell_type": "code",
   "execution_count": null,
   "metadata": {},
   "outputs": [],
   "source": [
    "plt.figure(figsize = (10,5))\n",
    "sb.pointplot(data = bike_trips, x = 'start_time_weekday', y = 'duration_min', hue = 'user_type', ci=None, order = days)\n",
    "plt.legend()\n",
    "plt.xlabel('Days of the Week')a\n",
    "plt.ylabel('Duration in Minutes')\n",
    "plt.title('Trends in Bike Ride Duration along the Week by Gender');"
   ]
  },
  {
   "cell_type": "markdown",
   "metadata": {},
   "source": [
    "Customers take longer bike rides than subscribers throughout the week."
   ]
  },
  {
   "cell_type": "code",
   "execution_count": null,
   "metadata": {},
   "outputs": [],
   "source": []
  },
  {
   "cell_type": "markdown",
   "metadata": {},
   "source": [
    "### Talk about some of the relationships you observed in this part of the investigation. Were there features that strengthened each other in terms of looking at your feature(s) of interest?\n",
    "\n",
    "> Your answer here!\n",
    "\n",
    "### Were there any interesting or surprising interactions between features?\n",
    "\n",
    "> Your answer here!"
   ]
  },
  {
   "cell_type": "markdown",
   "metadata": {},
   "source": [
    "## Conclusions\n",
    ">You can write a summary of the main findings and reflect on the steps taken during the data exploration.\n"
   ]
  },
  {
   "cell_type": "markdown",
   "metadata": {},
   "source": [
    "\n",
    "> Remove all Tips mentioned above, before you convert this notebook to PDF/HTML\n",
    "\n",
    "\n",
    "> At the end of your report, make sure that you export the notebook as an\n",
    "html file from the `File > Download as... > HTML or PDF` menu. Make sure you keep\n",
    "track of where the exported file goes, so you can put it in the same folder\n",
    "as this notebook for project submission. Also, make sure you remove all of\n",
    "the quote-formatted guide notes like this one before you finish your report!\n",
    "\n"
   ]
  },
  {
   "cell_type": "code",
   "execution_count": null,
   "metadata": {},
   "outputs": [],
   "source": []
  }
 ],
 "metadata": {
  "kernelspec": {
   "display_name": "Python 3",
   "language": "python",
   "name": "python3"
  },
  "language_info": {
   "codemirror_mode": {
    "name": "ipython",
    "version": 3
   },
   "file_extension": ".py",
   "mimetype": "text/x-python",
   "name": "python",
   "nbconvert_exporter": "python",
   "pygments_lexer": "ipython3",
   "version": "3.6.3"
  }
 },
 "nbformat": 4,
 "nbformat_minor": 2
}
